{
 "cells": [
  {
   "cell_type": "code",
   "execution_count": 1,
   "metadata": {},
   "outputs": [],
   "source": [
    "import json\n",
    "import os\n",
    "import pandas as pd\n",
    "import numpy as np"
   ]
  },
  {
   "cell_type": "code",
   "execution_count": 14,
   "metadata": {},
   "outputs": [],
   "source": [
    "df = pd.DataFrame()"
   ]
  },
  {
   "cell_type": "code",
   "execution_count": 15,
   "metadata": {},
   "outputs": [
    {
     "name": "stdout",
     "output_type": "stream",
     "text": [
      "error\n",
      "error\n",
      "error\n"
     ]
    }
   ],
   "source": [
    "path = \"dataC/\"\n",
    "files = os.listdir(path)\n",
    "# Read all json file in the data directory\n",
    "for file in files:\n",
    "    if (\".json\" in file):\n",
    "        result = []\n",
    "        with open(path + file, \"r\") as f:\n",
    "            data = json.load(f)\n",
    "            try:\n",
    "                if (data[\"data\"][0]['lang'] == \"en\"):\n",
    "                    for item in data[\"data\"]:\n",
    "                            result.append(item[\"text\"])\n",
    "                    result = pd.DataFrame(result)\n",
    "                    author = data[\"data\"][0]['author_id']\n",
    "                    result['author_id'] = author\n",
    "                    result.columns = [\"text\", \"author_id\"]\n",
    "                    df = pd.concat([df, result])\n",
    "            except:\n",
    "                print(\"error\")"
   ]
  },
  {
   "cell_type": "code",
   "execution_count": 16,
   "metadata": {},
   "outputs": [],
   "source": [
    "df.to_csv(\"network_17919972.csv\")"
   ]
  },
  {
   "cell_type": "code",
   "execution_count": 17,
   "metadata": {},
   "outputs": [
    {
     "data": {
      "text/html": [
       "<div>\n",
       "<style scoped>\n",
       "    .dataframe tbody tr th:only-of-type {\n",
       "        vertical-align: middle;\n",
       "    }\n",
       "\n",
       "    .dataframe tbody tr th {\n",
       "        vertical-align: top;\n",
       "    }\n",
       "\n",
       "    .dataframe thead th {\n",
       "        text-align: right;\n",
       "    }\n",
       "</style>\n",
       "<table border=\"1\" class=\"dataframe\">\n",
       "  <thead>\n",
       "    <tr style=\"text-align: right;\">\n",
       "      <th></th>\n",
       "      <th>text</th>\n",
       "      <th>author_id</th>\n",
       "    </tr>\n",
       "  </thead>\n",
       "  <tbody>\n",
       "    <tr>\n",
       "      <th>0</th>\n",
       "      <td>RT @Variety: \"Haim’s homecoming show Sunday at...</td>\n",
       "      <td>126632581</td>\n",
       "    </tr>\n",
       "    <tr>\n",
       "      <th>1</th>\n",
       "      <td>burnt but it’s still frying….\\n\\nhave u listen...</td>\n",
       "      <td>126632581</td>\n",
       "    </tr>\n",
       "    <tr>\n",
       "      <th>2</th>\n",
       "      <td>“Lost track” out now. Directed by Paul Thomas ...</td>\n",
       "      <td>126632581</td>\n",
       "    </tr>\n",
       "    <tr>\n",
       "      <th>3</th>\n",
       "      <td>OUR COVER GIRL!!! @harpersbazaarus https://t.c...</td>\n",
       "      <td>126632581</td>\n",
       "    </tr>\n",
       "    <tr>\n",
       "      <th>4</th>\n",
       "      <td>i love/miss you guys xx Este</td>\n",
       "      <td>126632581</td>\n",
       "    </tr>\n",
       "    <tr>\n",
       "      <th>...</th>\n",
       "      <td>...</td>\n",
       "      <td>...</td>\n",
       "    </tr>\n",
       "    <tr>\n",
       "      <th>93</th>\n",
       "      <td>Y’all going to love this one whewwww \\n❤️🌹🥹 ht...</td>\n",
       "      <td>57227772</td>\n",
       "    </tr>\n",
       "    <tr>\n",
       "      <th>94</th>\n",
       "      <td>@1800BIGBIDI Lmaooo it’s funny because my sist...</td>\n",
       "      <td>57227772</td>\n",
       "    </tr>\n",
       "    <tr>\n",
       "      <th>95</th>\n",
       "      <td>RT @leahfrombklyn: Bedstuy lost 22K black resi...</td>\n",
       "      <td>57227772</td>\n",
       "    </tr>\n",
       "    <tr>\n",
       "      <th>96</th>\n",
       "      <td>@FrankForreal_ Ooooh lord I can not 🤦🏾‍♀️</td>\n",
       "      <td>57227772</td>\n",
       "    </tr>\n",
       "    <tr>\n",
       "      <th>97</th>\n",
       "      <td>Nawwww the wayyyy I am about to stormmm. I fou...</td>\n",
       "      <td>57227772</td>\n",
       "    </tr>\n",
       "  </tbody>\n",
       "</table>\n",
       "<p>7770 rows × 2 columns</p>\n",
       "</div>"
      ],
      "text/plain": [
       "                                                 text  author_id\n",
       "0   RT @Variety: \"Haim’s homecoming show Sunday at...  126632581\n",
       "1   burnt but it’s still frying….\\n\\nhave u listen...  126632581\n",
       "2   “Lost track” out now. Directed by Paul Thomas ...  126632581\n",
       "3   OUR COVER GIRL!!! @harpersbazaarus https://t.c...  126632581\n",
       "4                        i love/miss you guys xx Este  126632581\n",
       "..                                                ...        ...\n",
       "93  Y’all going to love this one whewwww \\n❤️🌹🥹 ht...   57227772\n",
       "94  @1800BIGBIDI Lmaooo it’s funny because my sist...   57227772\n",
       "95  RT @leahfrombklyn: Bedstuy lost 22K black resi...   57227772\n",
       "96          @FrankForreal_ Ooooh lord I can not 🤦🏾‍♀️   57227772\n",
       "97  Nawwww the wayyyy I am about to stormmm. I fou...   57227772\n",
       "\n",
       "[7770 rows x 2 columns]"
      ]
     },
     "execution_count": 17,
     "metadata": {},
     "output_type": "execute_result"
    }
   ],
   "source": [
    "df"
   ]
  },
  {
   "cell_type": "code",
   "execution_count": null,
   "metadata": {},
   "outputs": [],
   "source": []
  }
 ],
 "metadata": {
  "kernelspec": {
   "display_name": "base",
   "language": "python",
   "name": "python3"
  },
  "language_info": {
   "codemirror_mode": {
    "name": "ipython",
    "version": 3
   },
   "file_extension": ".py",
   "mimetype": "text/x-python",
   "name": "python",
   "nbconvert_exporter": "python",
   "pygments_lexer": "ipython3",
   "version": "3.9.7"
  },
  "orig_nbformat": 4,
  "vscode": {
   "interpreter": {
    "hash": "d6eb5891f25db7a8f9d5f93b0192c288ba2fbe3f4f69cd0dd94ef07104d333ab"
   }
  }
 },
 "nbformat": 4,
 "nbformat_minor": 2
}
