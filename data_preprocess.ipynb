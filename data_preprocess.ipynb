{
 "cells": [
  {
   "cell_type": "code",
   "execution_count": 1,
   "metadata": {},
   "outputs": [],
   "source": [
    "from Utils import Utils\n",
    "import pandas as pd\n",
    "\n",
    "import json\n",
    "import csv\n",
    "import re"
   ]
  },
  {
   "cell_type": "code",
   "execution_count": 2,
   "metadata": {},
   "outputs": [
    {
     "name": "stdout",
     "output_type": "stream",
     "text": [
      "200\n",
      "200\n",
      "200\n",
      "200\n"
     ]
    }
   ],
   "source": [
    "tweet_history = open('tweet_history.csv', 'w', newline='', encoding=\"utf-8\")\n",
    "\n",
    "cw = csv.writer(tweet_history)\n",
    "\n",
    "# load data\n",
    "uids = [44196397, 30699048, 38271276, 1600237759918374913]\n",
    "utils = Utils(max_results=100) # limit is 100\n",
    "for id in uids:\n",
    "    utils.set_user_id(id)\n",
    "    url = utils.get_tweet_url()\n",
    "    params = utils.get_params(\"tweet\")\n",
    "    json_response = utils.connect_to_endpoint(url, params)\n",
    "    for i in range(len(json_response['data'])):\n",
    "        txt = json_response['data'][i]['text']\n",
    "        txt.replace('\\n', ' ')\n",
    "        clean_txt = re.sub('[^@\\sA-Za-z0-9]+', '', txt)\n",
    "        cw.writerow([clean_txt])\n"
   ]
  },
  {
   "cell_type": "code",
   "execution_count": 3,
   "metadata": {},
   "outputs": [],
   "source": [
    "tweet_history.close()"
   ]
  },
  {
   "cell_type": "code",
   "execution_count": null,
   "metadata": {},
   "outputs": [],
   "source": []
  }
 ],
 "metadata": {
  "kernelspec": {
   "display_name": "Python 3.10.6 64-bit",
   "language": "python",
   "name": "python3"
  },
  "language_info": {
   "codemirror_mode": {
    "name": "ipython",
    "version": 3
   },
   "file_extension": ".py",
   "mimetype": "text/x-python",
   "name": "python",
   "nbconvert_exporter": "python",
   "pygments_lexer": "ipython3",
   "version": "3.10.6"
  },
  "orig_nbformat": 4,
  "vscode": {
   "interpreter": {
    "hash": "369f2c481f4da34e4445cda3fffd2e751bd1c4d706f27375911949ba6bb62e1c"
   }
  }
 },
 "nbformat": 4,
 "nbformat_minor": 2
}
