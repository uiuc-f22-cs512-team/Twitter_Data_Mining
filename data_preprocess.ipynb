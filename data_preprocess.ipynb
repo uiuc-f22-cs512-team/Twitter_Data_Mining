{
 "cells": [
  {
   "cell_type": "code",
   "execution_count": 1,
   "metadata": {},
   "outputs": [],
   "source": [
    "from Utils import Utils\n",
    "import pandas as pd\n",
    "import csv\n",
    "import re\n",
    "import nltk\n",
    "import collections"
   ]
  },
  {
   "cell_type": "code",
   "execution_count": null,
   "metadata": {},
   "outputs": [],
   "source": [
    "nltk.download('stopwords') # python -m nltk.downloader stopwords\n",
    "from nltk.corpus import stopwords\n",
    "stop_words = stopwords.words('english')\n",
    "\n",
    "def text_to_tokens(text):\n",
    "    pattern = r\"['@A-Za-z0-9]+?['A-Za-z0-9]+\"\n",
    "    regex = re.compile(pattern)\n",
    "    regex = regex.findall(text)\n",
    "    res = []\n",
    "    for word in regex:\n",
    "        if word[0] == \"'\" and word[-1] == \"'\":\n",
    "            word = word[1:]\n",
    "            word = word[:1]\n",
    "        res.append(word)\n",
    "    return res\n",
    "\n",
    "def remove_stop_words(tokens):\n",
    "    res = []\n",
    "    for t in tokens:\n",
    "        if t not in stop_words:\n",
    "            res.append(t)\n",
    "    return res"
   ]
  },
  {
   "cell_type": "code",
   "execution_count": 3,
   "metadata": {},
   "outputs": [
    {
     "name": "stdout",
     "output_type": "stream",
     "text": [
      "200\n",
      "200\n",
      "200\n",
      "200\n"
     ]
    }
   ],
   "source": [
    "path = 'tweets_history.csv'\n",
    "tweet_history = open(path, 'w', newline='', encoding=\"utf-8\")\n",
    "cw = csv.writer(tweet_history)\n",
    "\n",
    "# load data\n",
    "uids = [44196397, 30699048, 38271276, 1600237759918374913]\n",
    "utils = Utils(max_results=100) # limit is 100\n",
    "for id in uids:\n",
    "    utils.set_user_id(id)\n",
    "    url = utils.get_tweet_url()\n",
    "    params = utils.get_params(\"tweet\")\n",
    "    json_response = utils.connect_to_endpoint(url, params)\n",
    "    for i in range(len(json_response['data'])):\n",
    "        txt = json_response['data'][i]['text']\n",
    "        txt = txt.replace('\\n', ' ')\n",
    "        txt = re.sub(r'http\\S+', '', txt) # remove urls\n",
    "        #txt = re.sub(r'@\\S+', '', txt) # remove mentions?\n",
    "        txt = re.sub('[^@\\sA-Za-z0-9]+', '', txt) # remove special char except @ for mentions?\n",
    "        tokens = text_to_tokens(txt)\n",
    "        clean_txt = remove_stop_words(tokens)\n",
    "        if len(clean_txt) != 0:\n",
    "            cw.writerow(clean_txt)\n",
    "\n",
    "tweet_history.close()"
   ]
  },
  {
   "cell_type": "code",
   "execution_count": null,
   "metadata": {},
   "outputs": [],
   "source": []
  }
 ],
 "metadata": {
  "kernelspec": {
   "display_name": "Python 3.10.6 64-bit",
   "language": "python",
   "name": "python3"
  },
  "language_info": {
   "codemirror_mode": {
    "name": "ipython",
    "version": 3
   },
   "file_extension": ".py",
   "mimetype": "text/x-python",
   "name": "python",
   "nbconvert_exporter": "python",
   "pygments_lexer": "ipython3",
   "version": "3.10.6 (tags/v3.10.6:9c7b4bd, Aug  1 2022, 21:53:49) [MSC v.1932 64 bit (AMD64)]"
  },
  "orig_nbformat": 4,
  "vscode": {
   "interpreter": {
    "hash": "369f2c481f4da34e4445cda3fffd2e751bd1c4d706f27375911949ba6bb62e1c"
   }
  }
 },
 "nbformat": 4,
 "nbformat_minor": 2
}
