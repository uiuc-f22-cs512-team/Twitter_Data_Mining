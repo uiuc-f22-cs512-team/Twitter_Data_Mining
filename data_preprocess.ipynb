{
 "cells": [
  {
   "cell_type": "code",
   "execution_count": 1,
   "metadata": {},
   "outputs": [],
   "source": [
    "from Utils import Utils\n",
    "import pandas as pd\n",
    "import csv\n",
    "import re\n",
    "import nltk\n",
    "import collections"
   ]
  },
  {
   "cell_type": "code",
   "execution_count": null,
   "metadata": {},
   "outputs": [],
   "source": [
    "nltk.download('stopwords') # python -m nltk.downloader stopwords\n",
    "from nltk.corpus import stopwords\n",
    "stop_words = stopwords.words('english')\n",
    "\n",
    "def text_to_tokens(text):\n",
    "    pattern = r\"['@A-Za-z0-9]+?['A-Za-z0-9]+\"\n",
    "    regex = re.compile(pattern)\n",
    "    regex = regex.findall(text)\n",
    "    res = []\n",
    "    for word in regex:\n",
    "        if word[0] == \"'\" and word[-1] == \"'\":\n",
    "            word = word[1:]\n",
    "            word = word[:1]\n",
    "        res.append(word)\n",
    "    return res\n",
    "\n",
    "def remove_stop_words(tokens):\n",
    "    res = []\n",
    "    for t in tokens:\n",
    "        if t not in stop_words:\n",
    "            res.append(t)\n",
    "    return res\n",
    "\n",
    "# parts of speech tagging\n",
    "nltk.download('punkt')\n",
    "nltk.download('averaged_perceptron_tagger')\n",
    "def filter_insignificant(clean_txt):\n",
    "    txt = \" \".join([str(word) for word in clean_txt])\n",
    "    res = []\n",
    "    for sent in nltk.set_tokenize(txt):\n",
    "        tokens = nltk.word_tokenize(sent)\n",
    "        tagged = nltk.pos_tag(tokens)\n",
    "        for t in tagged:\n",
    "            if t[1] in [\"NN\", \"VB\"]:\n",
    "                res.append(t[0])\n",
    "    return res"
   ]
  },
  {
   "cell_type": "code",
   "execution_count": 3,
   "metadata": {},
   "outputs": [
    {
     "name": "stdout",
     "output_type": "stream",
     "text": [
      "200\n",
      "200\n",
      "200\n",
      "200\n"
     ]
    }
   ],
   "source": [
    "path = 'tweets_history.csv'\n",
    "tweet_history = open(path, 'w', newline='', encoding=\"utf-8\")\n",
    "cw = csv.writer(tweet_history)\n",
    "\n",
    "# load data\n",
    "uids = [44196397, 30699048, 38271276, 1600237759918374913]\n",
    "utils = Utils(max_results=100) # limit is 100\n",
    "for id in uids:\n",
    "    utils.set_user_id(id)\n",
    "    url = utils.get_tweet_url()\n",
    "    params = utils.get_params(\"tweet\")\n",
    "    json_response = utils.connect_to_endpoint(url, params)\n",
    "    for i in range(len(json_response['data'])):\n",
    "        txt = json_response['data'][i]['text']\n",
    "        txt = txt.replace('\\n', ' ')\n",
    "        txt = re.sub(r'http\\S+', '', txt) # remove urls\n",
    "        txt = re.sub(r'@\\S+', '', txt) # remove mentions?\n",
    "        txt = re.sub('[^@\\sA-Za-z0-9]+', '', txt) # remove special char except @ for mentions?\n",
    "        tokens = text_to_tokens(txt)\n",
    "        clean_txt = remove_stop_words(tokens)\n",
    "        meaningful_txt = filter_insignificant(clean_txt)\n",
    "        if len(meaningful_txt) != 0:\n",
    "            cw.writerow(meaningful_txt)\n",
    "\n",
    "tweet_history.close()"
   ]
  },
  {
   "cell_type": "code",
   "execution_count": null,
   "metadata": {},
   "outputs": [],
   "source": []
  }
 ],
 "metadata": {
  "kernelspec": {
   "display_name": "mlenv",
   "language": "python",
   "name": "python3"
  },
  "language_info": {
   "codemirror_mode": {
    "name": "ipython",
    "version": 3
   },
   "file_extension": ".py",
   "mimetype": "text/x-python",
   "name": "python",
   "nbconvert_exporter": "python",
   "pygments_lexer": "ipython3",
   "version": "3.9.15 (main, Nov 24 2022, 14:39:17) [MSC v.1916 64 bit (AMD64)]"
  },
  "orig_nbformat": 4,
  "vscode": {
   "interpreter": {
    "hash": "ca1782f70ef7d425cc3cc7b3f381b93621b74c3c699bc9a92934c83f31935648"
   }
  }
 },
 "nbformat": 4,
 "nbformat_minor": 2
}
