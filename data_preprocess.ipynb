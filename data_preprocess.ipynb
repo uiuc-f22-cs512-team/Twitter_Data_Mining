{
 "cells": [
  {
   "cell_type": "code",
   "execution_count": 1,
   "metadata": {},
   "outputs": [],
   "source": [
    "from Utils import Utils\n",
    "import pandas as pd\n",
    "\n",
    "import json\n",
    "import csv\n",
    "import re"
   ]
  },
  {
   "cell_type": "code",
   "execution_count": 3,
   "metadata": {},
   "outputs": [
    {
     "name": "stdout",
     "output_type": "stream",
     "text": [
      "400\n"
     ]
    },
    {
     "ename": "Exception",
     "evalue": "Request returned an error: 400 {\"errors\":[{\"parameters\":{\"max_results\":[\"1000\"]},\"message\":\"The `max_results` query parameter value [1000] is not between 5 and 100\"}],\"title\":\"Invalid Request\",\"detail\":\"One or more parameters to your request was invalid.\",\"type\":\"https://api.twitter.com/2/problems/invalid-request\"}",
     "output_type": "error",
     "traceback": [
      "\u001b[1;31m---------------------------------------------------------------------------\u001b[0m",
      "\u001b[1;31mException\u001b[0m                                 Traceback (most recent call last)",
      "Cell \u001b[1;32mIn[3], line 5\u001b[0m\n\u001b[0;32m      3\u001b[0m url \u001b[39m=\u001b[39m utils\u001b[39m.\u001b[39mget_tweet_url()\n\u001b[0;32m      4\u001b[0m params \u001b[39m=\u001b[39m get_params(max_results\u001b[39m=\u001b[39m\u001b[39m1000\u001b[39m, req_type\u001b[39m=\u001b[39m\u001b[39m\"\u001b[39m\u001b[39mtweet\u001b[39m\u001b[39m\"\u001b[39m)\n\u001b[1;32m----> 5\u001b[0m json_response \u001b[39m=\u001b[39m utils\u001b[39m.\u001b[39;49mconnect_to_endpoint(url, params)\n\u001b[0;32m      6\u001b[0m \u001b[39m#json_dat = json.dumps(json_response, indent=4, sort_keys=True)\u001b[39;00m\n",
      "File \u001b[1;32mc:\\Users\\richw\\OneDrive\\Desktop\\Data Mining\\Twitter_Data_Mining\\Utils.py:52\u001b[0m, in \u001b[0;36mUtils.connect_to_endpoint\u001b[1;34m(self, url, params)\u001b[0m\n\u001b[0;32m     50\u001b[0m \u001b[39mprint\u001b[39m(response\u001b[39m.\u001b[39mstatus_code)\n\u001b[0;32m     51\u001b[0m \u001b[39mif\u001b[39;00m (response\u001b[39m.\u001b[39mstatus_code \u001b[39m!=\u001b[39m \u001b[39m200\u001b[39m):\n\u001b[1;32m---> 52\u001b[0m     \u001b[39mraise\u001b[39;00m \u001b[39mException\u001b[39;00m(\n\u001b[0;32m     53\u001b[0m         \u001b[39m\"\u001b[39m\u001b[39mRequest returned an error: \u001b[39m\u001b[39m{}\u001b[39;00m\u001b[39m \u001b[39m\u001b[39m{}\u001b[39;00m\u001b[39m\"\u001b[39m\u001b[39m.\u001b[39mformat(\n\u001b[0;32m     54\u001b[0m             response\u001b[39m.\u001b[39mstatus_code,\n\u001b[0;32m     55\u001b[0m             response\u001b[39m.\u001b[39mtext\n\u001b[0;32m     56\u001b[0m         )\n\u001b[0;32m     57\u001b[0m     )\n\u001b[0;32m     59\u001b[0m \u001b[39mreturn\u001b[39;00m response\u001b[39m.\u001b[39mjson()\n",
      "\u001b[1;31mException\u001b[0m: Request returned an error: 400 {\"errors\":[{\"parameters\":{\"max_results\":[\"1000\"]},\"message\":\"The `max_results` query parameter value [1000] is not between 5 and 100\"}],\"title\":\"Invalid Request\",\"detail\":\"One or more parameters to your request was invalid.\",\"type\":\"https://api.twitter.com/2/problems/invalid-request\"}"
     ]
    }
   ],
   "source": [
    "# load data\n",
    "utils = Utils(max_results=100) # limit is 100\n",
    "url = utils.get_tweet_url()\n",
    "params = utils.get_params(\"tweet\")\n",
    "json_response = utils.connect_to_endpoint(url, params)\n",
    "#json_dat = json.dumps(json_response, indent=4, sort_keys=True)"
   ]
  },
  {
   "cell_type": "code",
   "execution_count": 3,
   "metadata": {},
   "outputs": [],
   "source": [
    "tweet_history = open('tweet_history.csv', 'w', newline='', encoding=\"utf-8\")\n",
    "\n",
    "cw = csv.writer(tweet_history)\n",
    "\n",
    "for i in range(len(json_response['data'])):\n",
    "    txt = json_response['data'][i]['text']\n",
    "    txt.replace('\\n', ' ')\n",
    "    clean_txt = re.sub('[^@\\sA-Za-z0-9]+', '', txt)\n",
    "    cw.writerow([clean_txt])\n",
    "\n",
    "\n",
    "# load data\n",
    "utils = Utils(max_results=100) # limit is 100\n",
    "utils.set_user_id(1263491240336769026)\n",
    "url = utils.get_tweet_url()\n",
    "params = utils.get_params(\"tweet\")\n",
    "json_response = utils.connect_to_endpoint(url, params)\n",
    "#json_dat = json.dumps(json_response, indent=4, sort_keys=True)\n"
   ]
  },
  {
   "cell_type": "code",
   "execution_count": null,
   "metadata": {},
   "outputs": [],
   "source": [
    "tweet_history.close()"
   ]
  },
  {
   "cell_type": "code",
   "execution_count": null,
   "metadata": {},
   "outputs": [],
   "source": []
  }
 ],
 "metadata": {
  "kernelspec": {
   "display_name": "Python 3.10.6 64-bit",
   "language": "python",
   "name": "python3"
  },
  "language_info": {
   "codemirror_mode": {
    "name": "ipython",
    "version": 3
   },
   "file_extension": ".py",
   "mimetype": "text/x-python",
   "name": "python",
   "nbconvert_exporter": "python",
   "pygments_lexer": "ipython3",
   "version": "3.10.6"
  },
  "orig_nbformat": 4,
  "vscode": {
   "interpreter": {
    "hash": "369f2c481f4da34e4445cda3fffd2e751bd1c4d706f27375911949ba6bb62e1c"
   }
  }
 },
 "nbformat": 4,
 "nbformat_minor": 2
}
