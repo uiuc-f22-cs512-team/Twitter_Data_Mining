{
 "cells": [
  {
   "cell_type": "code",
   "execution_count": 5,
   "metadata": {},
   "outputs": [],
   "source": [
    "from Utils import Utils\n",
    "import pandas as pd\n",
    "import csv\n",
    "import re"
   ]
  },
  {
   "cell_type": "code",
   "execution_count": 6,
   "metadata": {},
   "outputs": [
    {
     "name": "stdout",
     "output_type": "stream",
     "text": [
      "200\n",
      "200\n",
      "200\n",
      "200\n"
     ]
    }
   ],
   "source": [
    "path = 'tweet_history.csv'\n",
    "tweet_history = open(path, 'w', newline='', encoding=\"utf-8\")\n",
    "\n",
    "cw = csv.writer(tweet_history)\n",
    "\n",
    "# load data\n",
    "uids = [44196397, 30699048, 38271276, 1600237759918374913]\n",
    "utils = Utils(max_results=100) # limit is 100\n",
    "for id in uids:\n",
    "    utils.set_user_id(id)\n",
    "    url = utils.get_tweet_url()\n",
    "    params = utils.get_params(\"tweet\")\n",
    "    json_response = utils.connect_to_endpoint(url, params)\n",
    "    for i in range(len(json_response['data'])):\n",
    "        txt = json_response['data'][i]['text']\n",
    "        txt = txt.replace('\\n', ' ')\n",
    "        txt = re.sub(r'http\\S+', '', txt) # remove urls\n",
    "        txt = re.sub(r'@\\S+', '', txt) # remove mentions\n",
    "        clean_txt = re.sub('[^\\sA-Za-z0-9]+', '', txt)\n",
    "        words = clean_txt.split()\n",
    "        if len(words) != 0:\n",
    "            cw.writerow([words])\n",
    "\n",
    "tweet_history.close()"
   ]
  },
  {
   "cell_type": "code",
   "execution_count": 8,
   "metadata": {},
   "outputs": [
    {
     "data": {
      "text/html": [
       "<div>\n",
       "<style scoped>\n",
       "    .dataframe tbody tr th:only-of-type {\n",
       "        vertical-align: middle;\n",
       "    }\n",
       "\n",
       "    .dataframe tbody tr th {\n",
       "        vertical-align: top;\n",
       "    }\n",
       "\n",
       "    .dataframe thead th {\n",
       "        text-align: right;\n",
       "    }\n",
       "</style>\n",
       "<table border=\"1\" class=\"dataframe\">\n",
       "  <thead>\n",
       "    <tr style=\"text-align: right;\">\n",
       "      <th></th>\n",
       "      <th>['RT', 'Teams', 'completed', 'additional', 'vehicle', 'inspections', 'and', 'reviews', 'rocket', 'and', 'payload', 'are', 'looking', 'good', 'for', 'launch', 'of', 'the', 'H']</th>\n",
       "    </tr>\n",
       "  </thead>\n",
       "  <tbody>\n",
       "    <tr>\n",
       "      <th>0</th>\n",
       "      <td>['Most', 'important', 'data', 'was', 'hidden',...</td>\n",
       "    </tr>\n",
       "    <tr>\n",
       "      <th>1</th>\n",
       "      <td>['One', 'of', 'the', 'best', 'aircraft', 'ever']</td>\n",
       "    </tr>\n",
       "    <tr>\n",
       "      <th>2</th>\n",
       "      <td>['Oh', 'you', 'know', 'keeping', 'busy']</td>\n",
       "    </tr>\n",
       "    <tr>\n",
       "      <th>3</th>\n",
       "      <td>['To', 'be', 'called', 'AGI', 'it', 'needs', '...</td>\n",
       "    </tr>\n",
       "    <tr>\n",
       "      <th>4</th>\n",
       "      <td>['Small', 'world']</td>\n",
       "    </tr>\n",
       "    <tr>\n",
       "      <th>...</th>\n",
       "      <td>...</td>\n",
       "    </tr>\n",
       "    <tr>\n",
       "      <th>342</th>\n",
       "      <td>['The', 'safety', 'of', 'any', 'AI', 'system',...</td>\n",
       "    </tr>\n",
       "    <tr>\n",
       "      <th>343</th>\n",
       "      <td>['Haha', 'pretty', 'close', 'Electrical', 'clo...</td>\n",
       "    </tr>\n",
       "    <tr>\n",
       "      <th>344</th>\n",
       "      <td>['Funny', 'thing', 'is', 'that', 'there', 'was...</td>\n",
       "    </tr>\n",
       "    <tr>\n",
       "      <th>345</th>\n",
       "      <td>['I', 'recently', 'learned', 'that', 'OpenAI',...</td>\n",
       "    </tr>\n",
       "    <tr>\n",
       "      <th>346</th>\n",
       "      <td>['Truth']</td>\n",
       "    </tr>\n",
       "  </tbody>\n",
       "</table>\n",
       "<p>347 rows × 1 columns</p>\n",
       "</div>"
      ],
      "text/plain": [
       "    ['RT', 'Teams', 'completed', 'additional', 'vehicle', 'inspections', 'and', 'reviews', 'rocket', 'and', 'payload', 'are', 'looking', 'good', 'for', 'launch', 'of', 'the', 'H']\n",
       "0    ['Most', 'important', 'data', 'was', 'hidden',...                                                                                                                             \n",
       "1     ['One', 'of', 'the', 'best', 'aircraft', 'ever']                                                                                                                             \n",
       "2             ['Oh', 'you', 'know', 'keeping', 'busy']                                                                                                                             \n",
       "3    ['To', 'be', 'called', 'AGI', 'it', 'needs', '...                                                                                                                             \n",
       "4                                   ['Small', 'world']                                                                                                                             \n",
       "..                                                 ...                                                                                                                             \n",
       "342  ['The', 'safety', 'of', 'any', 'AI', 'system',...                                                                                                                             \n",
       "343  ['Haha', 'pretty', 'close', 'Electrical', 'clo...                                                                                                                             \n",
       "344  ['Funny', 'thing', 'is', 'that', 'there', 'was...                                                                                                                             \n",
       "345  ['I', 'recently', 'learned', 'that', 'OpenAI',...                                                                                                                             \n",
       "346                                          ['Truth']                                                                                                                             \n",
       "\n",
       "[347 rows x 1 columns]"
      ]
     },
     "execution_count": 8,
     "metadata": {},
     "output_type": "execute_result"
    }
   ],
   "source": [
    "df = pd.read_csv(path)\n",
    "df"
   ]
  }
 ],
 "metadata": {
  "kernelspec": {
   "display_name": "Python 3.10.6 64-bit",
   "language": "python",
   "name": "python3"
  },
  "language_info": {
   "codemirror_mode": {
    "name": "ipython",
    "version": 3
   },
   "file_extension": ".py",
   "mimetype": "text/x-python",
   "name": "python",
   "nbconvert_exporter": "python",
   "pygments_lexer": "ipython3",
   "version": "3.10.6"
  },
  "orig_nbformat": 4,
  "vscode": {
   "interpreter": {
    "hash": "369f2c481f4da34e4445cda3fffd2e751bd1c4d706f27375911949ba6bb62e1c"
   }
  }
 },
 "nbformat": 4,
 "nbformat_minor": 2
}
